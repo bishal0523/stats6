{
 "cells": [
  {
   "cell_type": "code",
   "execution_count": 1,
   "id": "84e45d41-a6ff-421b-b45f-3e6a28b0ed33",
   "metadata": {},
   "outputs": [
    {
     "data": {
      "text/plain": [
       "(0.10809733005570983, 0.8976115129829062)"
      ]
     },
     "execution_count": 1,
     "metadata": {},
     "output_type": "execute_result"
    }
   ],
   "source": [
    "# Q1: Assumptions of ANOVA\n",
    "# The assumptions required to use ANOVA include:\n",
    "\n",
    "# Independence of Observations: The samples must be independent of each other.\n",
    "# Normality: The data should be approximately normally distributed.\n",
    "# Homogeneity of Variance: The variances among the groups should be approximately equal.\n",
    "# Examples of Violations:\n",
    "\n",
    "# Independence: If the data points within a group are correlated, it violates the independence assumption.\n",
    "# Normality: If the data is heavily skewed, it violates the normality assumption.\n",
    "# Homogeneity of Variance: If one group has much larger variance than another, it violates the homogeneity of variance assumption.\n",
    "# Q2: Types of ANOVA\n",
    "# One-Way ANOVA: Used when comparing the means of three or more independent groups based on one factor.\n",
    "# Two-Way ANOVA: Used when comparing the means based on two factors. It can also examine the interaction between the two factors.\n",
    "# Repeated Measures ANOVA: Used when the same subjects are used for each treatment (i.e., repeated measurements).\n",
    "# Q3: Partitioning of Variance in ANOVA\n",
    "# In ANOVA, the total variance is partitioned into:\n",
    "\n",
    "# Total Sum of Squares (SST): Total variability in the data.\n",
    "# Explained Sum of Squares (SSE): Variability explained by the group means.\n",
    "# Residual Sum of Squares (SSR): Variability within the groups (i.e., unexplained).\n",
    "# Understanding the partitioning of variance helps in identifying how much of the variability in the data is explained by the factors being studied.\n",
    "\n",
    "# Q4: Calculating SST, SSE, and SSR in One-Way ANOVA\n",
    "\n",
    "import numpy as np\n",
    "import pandas as pd\n",
    "from scipy import stats\n",
    "\n",
    "# Example data\n",
    "data = {\n",
    "    'Diet': np.repeat(['A', 'B', 'C'], 50),\n",
    "    'Weight_Loss': np.random.randn(150)  # Random data for illustration\n",
    "}\n",
    "\n",
    "df = pd.DataFrame(data)\n",
    "\n",
    "# One-way ANOVA calculation\n",
    "anova_results = stats.f_oneway(df[df['Diet'] == 'A']['Weight_Loss'],\n",
    "                               df[df['Diet'] == 'B']['Weight_Loss'],\n",
    "                               df[df['Diet'] == 'C']['Weight_Loss'])\n",
    "\n",
    "anova_results.statistic, anova_results.pvalue\n"
   ]
  },
  {
   "cell_type": "code",
   "execution_count": 2,
   "id": "133540bc-0a93-4a82-920f-942453c64280",
   "metadata": {},
   "outputs": [
    {
     "data": {
      "text/html": [
       "<div>\n",
       "<style scoped>\n",
       "    .dataframe tbody tr th:only-of-type {\n",
       "        vertical-align: middle;\n",
       "    }\n",
       "\n",
       "    .dataframe tbody tr th {\n",
       "        vertical-align: top;\n",
       "    }\n",
       "\n",
       "    .dataframe thead th {\n",
       "        text-align: right;\n",
       "    }\n",
       "</style>\n",
       "<table border=\"1\" class=\"dataframe\">\n",
       "  <thead>\n",
       "    <tr style=\"text-align: right;\">\n",
       "      <th></th>\n",
       "      <th>sum_sq</th>\n",
       "      <th>df</th>\n",
       "      <th>F</th>\n",
       "      <th>PR(&gt;F)</th>\n",
       "    </tr>\n",
       "  </thead>\n",
       "  <tbody>\n",
       "    <tr>\n",
       "      <th>C(Program)</th>\n",
       "      <td>1.715942</td>\n",
       "      <td>2.0</td>\n",
       "      <td>0.837566</td>\n",
       "      <td>0.436344</td>\n",
       "    </tr>\n",
       "    <tr>\n",
       "      <th>C(Experience)</th>\n",
       "      <td>0.299262</td>\n",
       "      <td>1.0</td>\n",
       "      <td>0.292144</td>\n",
       "      <td>0.590280</td>\n",
       "    </tr>\n",
       "    <tr>\n",
       "      <th>C(Program):C(Experience)</th>\n",
       "      <td>0.516912</td>\n",
       "      <td>2.0</td>\n",
       "      <td>0.252309</td>\n",
       "      <td>0.777591</td>\n",
       "    </tr>\n",
       "    <tr>\n",
       "      <th>Residual</th>\n",
       "      <td>86.046417</td>\n",
       "      <td>84.0</td>\n",
       "      <td>NaN</td>\n",
       "      <td>NaN</td>\n",
       "    </tr>\n",
       "  </tbody>\n",
       "</table>\n",
       "</div>"
      ],
      "text/plain": [
       "                             sum_sq    df         F    PR(>F)\n",
       "C(Program)                 1.715942   2.0  0.837566  0.436344\n",
       "C(Experience)              0.299262   1.0  0.292144  0.590280\n",
       "C(Program):C(Experience)   0.516912   2.0  0.252309  0.777591\n",
       "Residual                  86.046417  84.0       NaN       NaN"
      ]
     },
     "execution_count": 2,
     "metadata": {},
     "output_type": "execute_result"
    }
   ],
   "source": [
    "# Q5: Main Effects and Interaction Effects in Two-Way ANOVA\n",
    "import statsmodels.api as sm\n",
    "from statsmodels.formula.api import ols\n",
    "\n",
    "# Example data\n",
    "data = {\n",
    "    'Program': np.repeat(['A', 'B', 'C'], 30),\n",
    "    'Experience': np.tile(['Novice', 'Experienced'], 45),\n",
    "    'Time': np.random.randn(90)  # Random data for illustration\n",
    "}\n",
    "\n",
    "df = pd.DataFrame(data)\n",
    "\n",
    "# Two-way ANOVA calculation\n",
    "model = ols('Time ~ C(Program) * C(Experience)', data=df).fit()\n",
    "anova_table = sm.stats.anova_lm(model, typ=2)\n",
    "\n",
    "anova_table\n"
   ]
  },
  {
   "cell_type": "code",
   "execution_count": 4,
   "id": "f4388d6c-604b-4f6b-85b5-bbd157c5ac97",
   "metadata": {},
   "outputs": [
    {
     "data": {
      "text/plain": [
       "(0.44582906451384186, 0.6411560688892415)"
      ]
     },
     "execution_count": 4,
     "metadata": {},
     "output_type": "execute_result"
    }
   ],
   "source": [
    "\n",
    "# Q6: Interpretation of F-Statistic and P-Value\n",
    "# Given:\n",
    "\n",
    "# F-statistic: 5.23\n",
    "# P-value: 0.02\n",
    "# Conclusion:\n",
    "# Since the p-value (0.02) is less than the significance level (0.05), we reject the null hypothesis. This indicates that there are significant differences between the group means.\n",
    "\n",
    "# Q7: Handling Missing Data in Repeated Measures ANOVA\n",
    "# In repeated measures ANOVA, missing data can be handled using:\n",
    "\n",
    "# Listwise Deletion: Removing all data for any participant with missing values.\n",
    "# Mean Substitution: Replacing missing values with the mean of the non-missing values.\n",
    "# Multiple Imputation: Using statistical methods to estimate missing values.\n",
    "# Potential Consequences:\n",
    "\n",
    "# Listwise Deletion: Can reduce the sample size and power of the test.\n",
    "# Mean Substitution: Can underestimate the variability.\n",
    "# Multiple Imputation: More complex but provides better estimates.\n",
    "# Q8: Common Post-Hoc Tests\n",
    "# Tukey's HSD: Used when comparing all pairwise differences.\n",
    "# Bonferroni Correction: Adjusts the significance level to control for multiple comparisons.\n",
    "# Scheffé Test: More conservative, used when making many comparisons.\n",
    "# Example: After finding a significant F-statistic in an ANOVA, a post-hoc test like Tukey's HSD can be used to determine which specific groups differ.\n",
    "\n",
    "# Q9: One-Way ANOVA for Weight Loss Diets\n",
    "# Example data\n",
    "data = {\n",
    "    'Diet': np.repeat(['A', 'B', 'C'], 50),\n",
    "    'Weight_Loss': np.random.randn(150)  # Random data for illustration\n",
    "}\n",
    "\n",
    "df = pd.DataFrame(data)\n",
    "\n",
    "# One-way ANOVA calculation\n",
    "anova_results = stats.f_oneway(df[df['Diet'] == 'A']['Weight_Loss'],\n",
    "                               df[df['Diet'] == 'B']['Weight_Loss'],\n",
    "                               df[df['Diet'] == 'C']['Weight_Loss'])\n",
    "\n",
    "anova_results.statistic, anova_results.pvalue\n"
   ]
  },
  {
   "cell_type": "code",
   "execution_count": null,
   "id": "e31a8eaa-b2d0-4579-b512-df0eeeae8358",
   "metadata": {},
   "outputs": [],
   "source": [
    "# Q10: Two-Way ANOVA for Task Completion Time"
   ]
  }
 ],
 "metadata": {
  "kernelspec": {
   "display_name": "Python 3 (ipykernel)",
   "language": "python",
   "name": "python3"
  },
  "language_info": {
   "codemirror_mode": {
    "name": "ipython",
    "version": 3
   },
   "file_extension": ".py",
   "mimetype": "text/x-python",
   "name": "python",
   "nbconvert_exporter": "python",
   "pygments_lexer": "ipython3",
   "version": "3.10.8"
  }
 },
 "nbformat": 4,
 "nbformat_minor": 5
}
